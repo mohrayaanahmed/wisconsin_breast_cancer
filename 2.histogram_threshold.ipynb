{
 "cells": [
  {
   "cell_type": "code",
   "execution_count": 3,
   "metadata": {},
   "outputs": [],
   "source": [
    "# IMPORT PACKAGES\n",
    "\n",
    "import pandas as pd\n",
    "import matplotlib.pyplot as plt\n",
    "import numpy as np\n",
    "\n",
    "data = pd.read_csv(\"wdbc.csv\") # READ THE DATASET"
   ]
  },
  {
   "cell_type": "code",
   "execution_count": 4,
   "metadata": {},
   "outputs": [],
   "source": [
    "# DATA NORMALIZATION\n",
    "x = data.copy() # COPY THE DATA INTO A VARIABLE x\n",
    "\n",
    "# Delete non-numerical values\n",
    "del x[\"ID Number\"]\n",
    "del x[\"Diagnosis\"]\n",
    "\n",
    "# Normalize to unit variance\n",
    "data_normalized = (x - x.mean())/x.std()\n",
    "#data_normalized.to_csv(\"Normalized Data.csv\")\n",
    "data_normalized.insert(0, column = \"Diagnosis\", value = data[\"Diagnosis\"])\n",
    "\n",
    "total_data_normalized = data_normalized.groupby(data[\"Diagnosis\"])\n",
    "# FOR BENIGN DATA\n",
    "data_benign = total_data_normalized.get_group(\"B\")\n",
    "# FOR MALIGNANT DATA\n",
    "data_malignant = total_data_normalized.get_group(\"M\")"
   ]
  },
  {
   "cell_type": "code",
   "execution_count": 5,
   "metadata": {},
   "outputs": [],
   "source": [
    "# Create a function to find threshold, accuracy, and error\n",
    "\n",
    "# Create a function to find the accuracy of each attribute by the\n",
    "# determined threshold\n",
    "\n",
    "def threshold_attr(min_normalized, max_normalized, interval,a,answer,e,co):\n",
    "    for threshold in np.arange (min_normalized,max_normalized,interval):\n",
    "        err = 0\n",
    "        count = 0\n",
    "        for i in range (0,len(data_benign_list)):\n",
    "            if i < len(data_malignant_list):\n",
    "                if data_malignant_list[i] > threshold:\n",
    "                    count = count + 1\n",
    "                else:\n",
    "                    err = err + 1\n",
    "            if data_benign_list[i] < threshold:\n",
    "                count = count + 1\n",
    "            else:\n",
    "                err = err+1\n",
    "        a.append(count*100/(err+count))\n",
    "        e.append(err*100/(err+count))\n",
    "        co.append(count)\n",
    "    answer.append(max(a))"
   ]
  },
  {
   "cell_type": "code",
   "execution_count": 6,
   "metadata": {},
   "outputs": [],
   "source": [
    "a = []\n",
    "e = []\n",
    "co = []\n",
    "answer = []"
   ]
  },
  {
   "cell_type": "code",
   "execution_count": 7,
   "metadata": {},
   "outputs": [
    {
     "name": "stdout",
     "output_type": "stream",
     "text": [
      "[88.57644991212653, 73.63796133567662, 88.92794376098418, 88.75219683655536, 67.66256590509666, 80.14059753954305, 88.22495606326889, 91.3884007029877, 68.7170474516696, 63.2688927943761, 82.42530755711775, 62.74165202108963, 82.0738137082601, 86.99472759226714, 63.09314586994728, 69.42003514938489, 71.70474516695958, 73.4622144112478, 64.67486818980667, 62.74165202108963, 91.3884007029877, 72.93497363796133, 91.73989455184534, 92.09138840070298, 71.70474516695958, 79.78910369068541, 85.58875219683655, 91.56414762741652, 71.70474516695958, 69.94727592267135]\n"
     ]
    }
   ],
   "source": [
    "for index in range (1,31):\n",
    "    column_names = data_normalized.columns\n",
    "    min_normalized = data_normalized[column_names[index]].min()\n",
    "    max_normalized = data_normalized[column_names[index]].max()+1\n",
    "    data_malignant_list = list(data_malignant[column_names[index]])\n",
    "    data_benign_list = list(data_benign[column_names[index]])\n",
    "\n",
    "    interval = 0.1\n",
    "    a = []\n",
    "    # Call the function by giving min, max, four empty arrays, and\n",
    "    #   an interval of 0.1\n",
    "    threshold_attr(min_normalized,max_normalized,interval,a,answer,e,co)\n",
    "print(answer)"
   ]
  },
  {
   "cell_type": "code",
   "execution_count": 33,
   "metadata": {},
   "outputs": [
    {
     "data": {
      "image/png": "[encoded data removed]",
      "text/plain": [
       "<Figure size 432x288 with 3 Axes>"
      ]
     },
     "metadata": {
      "needs_background": "light"
     },
     "output_type": "display_data"
    }
   ],
   "source": [
    "# Plotting the histograms and running a line through the threshold\n",
    "# point.\n",
    "\n",
    "\n",
    "fig = plt.figure()\n",
    "j = 0\n",
    "\n",
    "first = 1\n",
    "last = 4\n",
    "\n",
    "# After viewing the first 3 graphs, change the values of first and last\n",
    "# as 4 and 7. Then, change again as 7 and 10, and so on until all attributes\n",
    "# are reached.\n",
    "\n",
    "# Create a loop to iterate though different attributes via their histograms\n",
    "\n",
    "for i,b in enumerate(list(data_normalized.columns[first:last])):\n",
    "    j = first - 1\n",
    "    \n",
    "    i += 1\n",
    "    \n",
    "    # Add subplot to add two plots and index it using 'i'\n",
    "    ax = fig.add_subplot(2,3,i)\n",
    "    threshold = [0.2,0.07,0.317,0.146,0.489,0.291,0.086,0.039,0.858,1.47,0.041,6.74,-0.043,-0.037,4.925,-0.096,0.043,-0.011,2.86,9.90,0.07,0.577,0.208,-0.021,0.71,0.157,0.195,0.456,0.840,0.699]\n",
    "    \n",
    "    # Plot histogram via their attributes using stacked and alpha\n",
    "    # parameters for comparisons.\n",
    "    ax.hist(data_benign[b], label = 'Benign', stacked = True, alpha=0.5, color= 'purple')\n",
    "    ax.hist(data_malignant[b], label= 'Malignant', stacked = True, alpha=0.5, color= 'pink')\n",
    "    plt.axvline(x=threshold[j],color='red')\n",
    "    j = j + 1\n",
    "    ax.set_title(b)\n",
    "\n",
    "plt.tight_layout()\n",
    "plt.legend()\n",
    "plt.show()\n"
   ]
  },
  {
   "cell_type": "code",
   "execution_count": null,
   "metadata": {},
   "outputs": [],
   "source": []
  }
 ],
 "metadata": {
  "kernelspec": {
   "display_name": "Python 3",
   "language": "python",
   "name": "python3"
  },
  "language_info": {
   "codemirror_mode": {
    "name": "ipython",
    "version": 3
   },
   "file_extension": ".py",
   "mimetype": "text/x-python",
   "name": "python",
   "nbconvert_exporter": "python",
   "pygments_lexer": "ipython3",
   "version": "3.8.3"
  }
 },
 "nbformat": 4,
 "nbformat_minor": 4
}
