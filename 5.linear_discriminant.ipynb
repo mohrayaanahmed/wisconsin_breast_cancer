{
 "cells": [
  {
   "cell_type": "code",
   "execution_count": 1,
   "metadata": {},
   "outputs": [],
   "source": [
    "# IMPORT PANDAS TO READ THE DATASET\n",
    "\n",
    "import pandas as pd\n",
    "\n",
    "data = pd.read_csv(\"wdbc.csv\") # READ THE DATASET"
   ]
  },
  {
   "cell_type": "code",
   "execution_count": 4,
   "metadata": {},
   "outputs": [],
   "source": [
    "# DATA NORMALIZATION\n",
    "\n",
    "x = data.copy() # COPY THE DATA INTO A VARIABLE x\n",
    "\n",
    "# Delete non-numerical values\n",
    "del x[\"ID Number\"]\n",
    "del x[\"Diagnosis\"]\n",
    "\n",
    "# Normalize to unit variance\n",
    "data_normalized = (x - x.mean())/x.std()\n",
    "#data_normalized.to_csv(\"Normalized Data.csv\")\n",
    "data_normalized.insert(0, column = \"Diagnosis\", value = data[\"Diagnosis\"])\n",
    "\n",
    "total_data_normalized = data_normalized.groupby(data[\"Diagnosis\"])\n",
    "\n",
    "data_benign = total_data_normalized.get_group(\"B\")\n",
    "\n",
    "data_malignant = total_data_normalized.get_group(\"M\")\n",
    "\n",
    "del data_benign['Diagnosis']\n",
    "del data_malignant['Diagnosis']\n"
   ]
  },
  {
   "cell_type": "code",
   "execution_count": 5,
   "metadata": {},
   "outputs": [],
   "source": [
    "# IMPORT NUMPY FOR MATHEMATICAL CALCULATIONS\n",
    "\n",
    "import numpy as np\n",
    "\n",
    "# Convert Benign and Malignant datasets into array\n",
    "b = np.array(data_benign)\n",
    "m = np.array(data_malignant)\n"
   ]
  },
  {
   "cell_type": "code",
   "execution_count": 7,
   "metadata": {},
   "outputs": [],
   "source": [
    "# FISHER'S LINEAR DISCRIMINANT ANALYSIS EQUATION:\n",
    "    #   J(W) = ((MEAN_b - MEAN_m)^2)/((COV_b)^2 + (COV_m)^2)\n",
    "\n",
    "\n",
    "# COMPLETE THE NUMERATOR\n",
    "numerator = (np.mean(m,axis=0).reshape(-1,1) - (np.mean(b,axis=0).reshape(-1,1)))\n",
    "numerator = numerator * numerator.T\n",
    "\n",
    "# Find covariance for Denominator\n",
    "covariance_b = np.cov(b.T)\n",
    "covariance_m = np.cov(m.T)\n",
    "\n",
    "denominator = (covariance_b * covariance_b) + (covariance_m * covariance_m)\n",
    "inv_denominator = np.linalg.inv(denominator)\n",
    "eig_vals, eig_vecs = np.linalg.eig(inv_denominator.dot(numerator))\n",
    "\n",
    "# CONVERT INTO REAL VALUES\n",
    "eig_vals = eig_vals.real\n",
    "eig_vecs = eig_vecs.real"
   ]
  },
  {
   "cell_type": "code",
   "execution_count": 8,
   "metadata": {},
   "outputs": [],
   "source": [
    "# FOR THE SPLIT FOR TRAIN/TEST\n",
    "\n",
    "x_data = data_normalized.drop('Diagnosis', axis = 1)\n",
    "\n",
    "y_data = data_normalized['Diagnosis'] # Target Data\n",
    "\n",
    "# Convert into arrays\n",
    "x = x_data.to_numpy()\n",
    "y = y_data.to_numpy()\n",
    "\n",
    "\n",
    "#take only eigenvec corresponding to largest(and the only one)eigenvalue\n",
    "eig_pairs = [(np.abs(eig_vals[i]), eig_vecs[:,i]) for i in range(len(eig_vals))]\n",
    "\n",
    "# Sort the (eigenvalue, eigenvector) in descending order\n",
    "eig_pairs = sorted(eig_pairs, key=lambda k: k[0], reverse=True)\n",
    "\n",
    "# Initialize the w vector\n",
    "W = eig_vecs[:, :1]\n",
    "\n",
    "#   The final transformed values are in x_transform\n",
    "#   The Fisher's Linear Discriminant has been successfully applied\n",
    "x_transform = np.dot(x, W)"
   ]
  },
  {
   "cell_type": "code",
   "execution_count": 9,
   "metadata": {},
   "outputs": [
    {
     "name": "stdout",
     "output_type": "stream",
     "text": [
      "These many are being trained:  341\n",
      "These many are being tested:  228\n"
     ]
    }
   ],
   "source": [
    "#Train and test the data\n",
    "from sklearn.model_selection import train_test_split\n",
    "\n",
    "# Give the values to be trained in the dataset\n",
    "x_train,x_test,y_train,y_test = train_test_split(x_transform, y, test_size = 0.4, random_state = 0)\n",
    "\n",
    "# To check how many are being tested and how many are being trained\n",
    "print(\"These many are being trained: \", x_train.shape[0])\n",
    "print(\"These many are being tested: \", x_test.shape[0])"
   ]
  },
  {
   "cell_type": "code",
   "execution_count": 14,
   "metadata": {},
   "outputs": [
    {
     "name": "stdout",
     "output_type": "stream",
     "text": [
      "\n",
      "Accuracy of Linear Discriminant Analysis on the transformed data by Fisher's Linear Discriminant Analysis: 0.9692982456140351\n"
     ]
    }
   ],
   "source": [
    "#   USE A  MODEL ON THE TRANFORMED (FISHER LINEAR DISCRIMINAT) DATA\n",
    "from sklearn.discriminant_analysis import LinearDiscriminantAnalysis\n",
    "\n",
    "flda = LinearDiscriminantAnalysis()\n",
    "\n",
    "# Fit and Predict the data\n",
    "flda.fit(x_train, y_train)\n",
    "flda_predicted = flda.predict(x_test)\n",
    "\n",
    "# Attain accuracy of the model buy importing accuracy_score\n",
    "from sklearn.metrics import accuracy_score\n",
    "\n",
    "print(\"\\nAccuracy of Linear Discriminant Analysis on the transformed data by Fisher's Linear Discriminant Analysis: {}\".format(accuracy_score(y_test,flda_predicted)))"
   ]
  },
  {
   "cell_type": "code",
   "execution_count": 12,
   "metadata": {},
   "outputs": [
    {
     "name": "stdout",
     "output_type": "stream",
     "text": [
      "\n",
      "Fisher's Linear discriminant Model Confusion Matrix\n",
      "\n"
     ]
    },
    {
     "data": {
      "text/html": [
       "<div>\n",
       "<style scoped>\n",
       "    .dataframe tbody tr th:only-of-type {\n",
       "        vertical-align: middle;\n",
       "    }\n",
       "\n",
       "    .dataframe tbody tr th {\n",
       "        vertical-align: top;\n",
       "    }\n",
       "\n",
       "    .dataframe thead th {\n",
       "        text-align: right;\n",
       "    }\n",
       "</style>\n",
       "<table border=\"1\" class=\"dataframe\">\n",
       "  <thead>\n",
       "    <tr style=\"text-align: right;\">\n",
       "      <th></th>\n",
       "      <th>Predicted Negative</th>\n",
       "      <th>Predicted Positive</th>\n",
       "    </tr>\n",
       "  </thead>\n",
       "  <tbody>\n",
       "    <tr>\n",
       "      <th>Actual Negative</th>\n",
       "      <td>144</td>\n",
       "      <td>1</td>\n",
       "    </tr>\n",
       "    <tr>\n",
       "      <th>Actual Positive</th>\n",
       "      <td>6</td>\n",
       "      <td>77</td>\n",
       "    </tr>\n",
       "  </tbody>\n",
       "</table>\n",
       "</div>"
      ],
      "text/plain": [
       "                 Predicted Negative  Predicted Positive\n",
       "Actual Negative                 144                   1\n",
       "Actual Positive                   6                  77"
      ]
     },
     "execution_count": 12,
     "metadata": {},
     "output_type": "execute_result"
    }
   ],
   "source": [
    "from sklearn.metrics import confusion_matrix\n",
    "\n",
    "confusion_matrix_flda = pd.DataFrame(confusion_matrix(y_test, flda_predicted), index = ['Actual Negative','Actual Positive'], columns = ['Predicted Negative','Predicted Positive'] )\n",
    "\n",
    "print(\"\\nFisher's Linear discriminant Model Confusion Matrix\\n\")\n",
    "confusion_matrix_flda"
   ]
  },
  {
   "cell_type": "code",
   "execution_count": null,
   "metadata": {},
   "outputs": [],
   "source": []
  }
 ],
 "metadata": {
  "kernelspec": {
   "display_name": "Python 3",
   "language": "python",
   "name": "python3"
  },
  "language_info": {
   "codemirror_mode": {
    "name": "ipython",
    "version": 3
   },
   "file_extension": ".py",
   "mimetype": "text/x-python",
   "name": "python",
   "nbconvert_exporter": "python",
   "pygments_lexer": "ipython3",
   "version": "3.8.3"
  }
 },
 "nbformat": 4,
 "nbformat_minor": 4
}
