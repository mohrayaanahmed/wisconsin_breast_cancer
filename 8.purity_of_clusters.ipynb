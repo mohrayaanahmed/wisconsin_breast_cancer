{
 "cells": [
  {
   "cell_type": "code",
   "execution_count": 1,
   "metadata": {},
   "outputs": [],
   "source": [
    "import pandas as pd\n",
    "\n",
    "data = pd.read_csv(\"wdbc.csv\") # READ THE DATASET"
   ]
  },
  {
   "cell_type": "code",
   "execution_count": 2,
   "metadata": {},
   "outputs": [],
   "source": [
    "# DATA NORMALIZATION\n",
    "\n",
    "x = data.copy() # COPY THE DATA INTO A VARIABLE x\n",
    "\n",
    "# Delete non-numerical values\n",
    "del x[\"ID Number\"]\n",
    "del x[\"Diagnosis\"]\n",
    "\n",
    "import numpy as np\n",
    "\n",
    "# Standardize the data\n",
    "X = (x - x.mean())/x.std()\n",
    "y = np.array(X)"
   ]
  },
  {
   "cell_type": "code",
   "execution_count": 3,
   "metadata": {},
   "outputs": [
    {
     "name": "stdout",
     "output_type": "stream",
     "text": [
      "Please put a value of 'k' {2,3, or 5}2\n",
      "Initial Centroids: [465, 292]\n"
     ]
    }
   ],
   "source": [
    "import random\n",
    "k = int(input(\"Please put a value of 'k' {2,3, or 5}\"))\n",
    "\n",
    "# generate random initial centroids\n",
    "init_centroids = random.sample(range(0, len(y)), k)\n",
    "\n",
    "print(\"Initial Centroids:\", init_centroids)"
   ]
  },
  {
   "cell_type": "code",
   "execution_count": 4,
   "metadata": {},
   "outputs": [],
   "source": [
    "centroids = []\n",
    "for i in init_centroids:\n",
    "    centroids.append(y[i])\n",
    "\n",
    "# get the initial centroids\n",
    "centroids = np.array(centroids)"
   ]
  },
  {
   "cell_type": "code",
   "execution_count": 5,
   "metadata": {},
   "outputs": [],
   "source": [
    "# calculate euclidean distance\n",
    "def calc_distance(X1, X2):\n",
    "    return(sum((X1 - X2)**2))**0.5"
   ]
  },
  {
   "cell_type": "code",
   "execution_count": 6,
   "metadata": {},
   "outputs": [],
   "source": [
    "# to calculate nearest centroid\n",
    "def findClosestCentroids(ic, y):\n",
    "    assigned_centroid = []\n",
    "    for i in y:\n",
    "        distance=[]\n",
    "        for j in ic:\n",
    "            distance.append(calc_distance(i, j))\n",
    "        assigned_centroid.append(np.argmin(distance))\n",
    "\n",
    "    return assigned_centroid"
   ]
  },
  {
   "cell_type": "code",
   "execution_count": 7,
   "metadata": {},
   "outputs": [],
   "source": [
    "get_centroids = findClosestCentroids(centroids, y)"
   ]
  },
  {
   "cell_type": "code",
   "execution_count": 8,
   "metadata": {},
   "outputs": [],
   "source": [
    "# to calculate final centroids\n",
    "def calc_centroids(clusters, y):\n",
    "    new_centroids = []\n",
    "    new_df = pd.concat([pd.DataFrame(y), pd.DataFrame(clusters, columns=['cluster'])],\n",
    "                      axis=1)\n",
    "    for c in set(new_df['cluster']):\n",
    "        current_cluster = new_df[new_df['cluster'] == c][new_df.columns[:-1]]\n",
    "        cluster_mean = current_cluster.mean(axis=0)\n",
    "        new_centroids.append(cluster_mean)\n",
    "    return new_centroids"
   ]
  },
  {
   "cell_type": "code",
   "execution_count": 9,
   "metadata": {},
   "outputs": [],
   "source": [
    "# centroids will get the final centroids in k clusters\n",
    "for i in range(20):\n",
    "    get_centroids = findClosestCentroids(centroids, y)\n",
    "    centroids = calc_centroids(get_centroids, y)"
   ]
  },
  {
   "cell_type": "code",
   "execution_count": 10,
   "metadata": {},
   "outputs": [],
   "source": [
    "c = []\n",
    "d = []\n",
    "e = []\n",
    "f = []\n",
    "g = []\n",
    "\n",
    "\n",
    "# get the number of points in each cluster\n",
    "for i in range(0, len(get_centroids)):\n",
    "    if get_centroids[i] == 0:\n",
    "        c.append(i)\n",
    "    if get_centroids[i] == 1:\n",
    "        d.append(i)\n",
    "    if get_centroids[i] == 2:\n",
    "        e.append(i)\n",
    "    if get_centroids[i] == 3:\n",
    "        f.append(i)\n",
    "    if get_centroids[i] == 4:\n",
    "        g.append(i)"
   ]
  },
  {
   "cell_type": "code",
   "execution_count": 11,
   "metadata": {},
   "outputs": [],
   "source": [
    "ww1 = 0\n",
    "ww2 = 0\n",
    "ww3 = 0\n",
    "ww4 = 0\n",
    "ww5 = 0\n",
    "\n",
    "vv1 = 0\n",
    "vv2 = 0\n",
    "vv3 = 0\n",
    "vv4 = 0\n",
    "vv5 = 0"
   ]
  },
  {
   "cell_type": "code",
   "execution_count": 12,
   "metadata": {},
   "outputs": [],
   "source": [
    "# iterate a for loop through the diagnosis column in the main dataframe\n",
    "# and find which data point is 'M' and which data point is 'B' in our\n",
    "# k clusters\n",
    "for i in range(0, len(data['Diagnosis'])):\n",
    "\n",
    "    if data['Diagnosis'][i] == 'M':\n",
    "        for j in c:\n",
    "            if j == i:\n",
    "                ww1 += 1\n",
    "        for j in d:\n",
    "            if j == i:\n",
    "                ww2 += 1\n",
    "        if k > 2:\n",
    "            for j in e:\n",
    "                if j == i:\n",
    "                    ww3 += 1\n",
    "        if k > 3:\n",
    "            for j in f:\n",
    "                if j == i:\n",
    "                    ww4 += 1\n",
    "            for j in g:\n",
    "                if j == i:\n",
    "                    ww5 += 1\n",
    "\n",
    "    if data['Diagnosis'][i] == 'B':\n",
    "        for j in c:\n",
    "            if j == i:\n",
    "                vv1 += 1\n",
    "        for j in d:\n",
    "            if j == i:\n",
    "                vv2 += 1\n",
    "        if k > 2:\n",
    "            for j in e:\n",
    "                if j == i:\n",
    "                    vv3 += 1\n",
    "        if k > 3:\n",
    "            for j in f:\n",
    "                if j == i:\n",
    "                    vv4 += 1\n",
    "            for j in g:\n",
    "                if j == i:\n",
    "                    vv5 += 1"
   ]
  },
  {
   "cell_type": "code",
   "execution_count": 13,
   "metadata": {},
   "outputs": [],
   "source": [
    "# depending on which class is in the majority in a cluster, associate it\n",
    "# with its cluster like so, c1,c2,c3 ...\n",
    "if ww1 > vv1:\n",
    "    c1 = ww1\n",
    "elif ww1 < vv1:\n",
    "    c1 = vv1\n",
    "else:\n",
    "    c1 = ww1\n",
    "\n",
    "if ww2 > vv2:\n",
    "    c2 = ww2\n",
    "elif ww2 < vv2:\n",
    "    c2 = vv2\n",
    "else:\n",
    "    c2 = ww2\n",
    "\n",
    "if ww3 > vv3:\n",
    "    c3 = ww3\n",
    "elif ww3 < vv3:\n",
    "    c3 = vv3\n",
    "else:\n",
    "    c3 = ww3\n",
    "\n",
    "if ww4 > vv4:\n",
    "    c4 = ww4\n",
    "elif ww4 < vv4:\n",
    "    c4 = vv4\n",
    "else:\n",
    "    c4 = ww4\n",
    "\n",
    "if ww5 > vv5:\n",
    "    c5 = ww5\n",
    "elif ww5 < vv5:\n",
    "    c5 = vv5\n",
    "else:\n",
    "    c5 = ww5"
   ]
  },
  {
   "cell_type": "code",
   "execution_count": 15,
   "metadata": {},
   "outputs": [
    {
     "name": "stdout",
     "output_type": "stream",
     "text": [
      "Purity: 0.9121265377855887\n"
     ]
    }
   ],
   "source": [
    "# print the purity of the k clusters\n",
    "print(\"Purity:\",(c1+c2+c3+c4+c5)/569)"
   ]
  },
  {
   "cell_type": "code",
   "execution_count": null,
   "metadata": {},
   "outputs": [],
   "source": []
  }
 ],
 "metadata": {
  "kernelspec": {
   "display_name": "Python 3",
   "language": "python",
   "name": "python3"
  },
  "language_info": {
   "codemirror_mode": {
    "name": "ipython",
    "version": 3
   },
   "file_extension": ".py",
   "mimetype": "text/x-python",
   "name": "python",
   "nbconvert_exporter": "python",
   "pygments_lexer": "ipython3",
   "version": "3.8.3"
  }
 },
 "nbformat": 4,
 "nbformat_minor": 4
}
