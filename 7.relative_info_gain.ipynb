{
 "cells": [
  {
   "cell_type": "code",
   "execution_count": 19,
   "metadata": {},
   "outputs": [],
   "source": [
    "import pandas as pd\n",
    "\n",
    "data = pd.read_csv(\"wdbc.csv\") # READ THE DATASET"
   ]
  },
  {
   "cell_type": "code",
   "execution_count": 20,
   "metadata": {},
   "outputs": [],
   "source": [
    "# DATA NORMALIZATION\n",
    "\n",
    "x = data.copy() # COPY THE DATA INTO A VARIABLE x\n",
    "\n",
    "# Delete non-numerical values\n",
    "del x[\"ID Number\"]\n",
    "del x[\"Diagnosis\"]\n",
    "\n",
    "import numpy as np\n",
    "\n",
    "# Standardize the data\n",
    "X = (x - x.mean())/x.std()\n",
    "y = np.array(X)"
   ]
  },
  {
   "cell_type": "code",
   "execution_count": 21,
   "metadata": {},
   "outputs": [
    {
     "name": "stdout",
     "output_type": "stream",
     "text": [
      "Please put a value of 'k' {2,3, or 5}5\n",
      "Initial Centroids: [104, 244, 216, 336, 275]\n"
     ]
    }
   ],
   "source": [
    "import random\n",
    "k = int(input(\"Please put a value of 'k' {2,3, or 5}\"))\n",
    "# randomly generate initial centroids\n",
    "init_centroids = random.sample(range(0, len(y)), k)\n",
    "\n",
    "print(\"Initial Centroids:\", init_centroids)"
   ]
  },
  {
   "cell_type": "code",
   "execution_count": 22,
   "metadata": {},
   "outputs": [],
   "source": [
    "centroids = []\n",
    "for i in init_centroids:\n",
    "    centroids.append(y[i])\n",
    "\n",
    "# get the initial centroids\n",
    "centroids = np.array(centroids)"
   ]
  },
  {
   "cell_type": "code",
   "execution_count": 23,
   "metadata": {},
   "outputs": [],
   "source": [
    "# calculate euclidean distance\n",
    "def calc_distance(X1, X2):\n",
    "    return(sum((X1 - X2)**2))**0.5"
   ]
  },
  {
   "cell_type": "code",
   "execution_count": 24,
   "metadata": {},
   "outputs": [],
   "source": [
    "# to calculate nearest centroid\n",
    "def findClosestCentroids(ic, y):\n",
    "    assigned_centroid = []\n",
    "    for i in y:\n",
    "        distance=[]\n",
    "        for j in ic:\n",
    "            distance.append(calc_distance(i, j))\n",
    "        assigned_centroid.append(np.argmin(distance))\n",
    "\n",
    "    return assigned_centroid"
   ]
  },
  {
   "cell_type": "code",
   "execution_count": 25,
   "metadata": {},
   "outputs": [],
   "source": [
    "get_centroids = findClosestCentroids(centroids, y)"
   ]
  },
  {
   "cell_type": "code",
   "execution_count": 26,
   "metadata": {},
   "outputs": [],
   "source": [
    "# to calculate final centroids\n",
    "def calc_centroids(clusters, y):\n",
    "    new_centroids = []\n",
    "    new_df = pd.concat([pd.DataFrame(y), pd.DataFrame(clusters, columns=['cluster'])],\n",
    "                      axis=1)\n",
    "    for c in set(new_df['cluster']):\n",
    "        current_cluster = new_df[new_df['cluster'] == c][new_df.columns[:-1]]\n",
    "        cluster_mean = current_cluster.mean(axis=0)\n",
    "        new_centroids.append(cluster_mean)\n",
    "    return new_centroids"
   ]
  },
  {
   "cell_type": "code",
   "execution_count": 27,
   "metadata": {},
   "outputs": [
    {
     "name": "stdout",
     "output_type": "stream",
     "text": [
      "[1, 1, 1, 2, 1, 2, 1, 2, 2, 2, 3, 2, 1, 3, 2, 2, 3, 2, 1, 3, 3, 4, 2, 1, 1, 1, 2, 1, 2, 3, 1, 2, 1, 1, 2, 2, 2, 0, 0, 2, 3, 4, 1, 2, 3, 1, 0, 2, 3, 3, 0, 3, 0, 1, 3, 0, 1, 2, 0, 4, 4, 4, 2, 4, 2, 2, 4, 0, 2, 0, 1, 4, 2, 3, 3, 3, 4, 1, 1, 3, 4, 2, 1, 1, 3, 1, 4, 1, 3, 4, 3, 3, 3, 3, 2, 1, 0, 0, 3, 3, 3, 4, 0, 4, 0, 2, 4, 3, 1, 0, 4, 4, 2, 4, 4, 3, 4, 2, 2, 3, 3, 1, 1, 3, 3, 3, 3, 1, 4, 1, 3, 3, 3, 3, 1, 0, 0, 3, 1, 4, 0, 3, 0, 3, 0, 4, 2, 4, 3, 3, 0, 4, 2, 0, 3, 3, 1, 3, 3, 0, 4, 1, 1, 4, 1, 3, 3, 3, 1, 3, 3, 3, 2, 4, 0, 0, 4, 2, 0, 0, 1, 1, 3, 0, 3, 0, 3, 3, 0, 0, 2, 0, 0, 2, 2, 3, 2, 3, 1, 2, 3, 3, 1, 2, 3, 3, 0, 3, 2, 3, 1, 0, 1, 4, 2, 2, 4, 0, 1, 1, 3, 3, 4, 2, 3, 3, 0, 3, 3, 2, 2, 0, 0, 1, 0, 0, 1, 1, 0, 1, 3, 0, 2, 0, 1, 4, 0, 2, 0, 3, 1, 0, 1, 3, 1, 3, 1, 2, 1, 2, 1, 3, 1, 3, 3, 1, 4, 0, 3, 4, 0, 3, 1, 0, 3, 4, 0, 3, 0, 3, 1, 0, 1, 2, 3, 0, 4, 3, 4, 0, 4, 3, 4, 0, 3, 3, 0, 0, 3, 0, 1, 0, 1, 0, 0, 0, 3, 0, 0, 0, 0, 3, 3, 3, 4, 0, 0, 3, 4, 0, 4, 1, 3, 1, 3, 3, 3, 0, 2, 4, 3, 3, 0, 0, 0, 1, 3, 1, 0, 1, 3, 4, 4, 1, 4, 4, 0, 3, 0, 4, 0, 2, 1, 2, 0, 4, 4, 0, 4, 0, 0, 0, 0, 3, 3, 1, 1, 3, 1, 1, 2, 3, 1, 1, 3, 3, 2, 0, 3, 2, 4, 0, 0, 4, 3, 3, 3, 3, 4, 1, 3, 4, 2, 1, 0, 0, 3, 3, 3, 0, 2, 3, 0, 3, 0, 0, 3, 0, 1, 0, 0, 0, 0, 3, 0, 0, 4, 1, 3, 0, 0, 4, 3, 3, 4, 0, 4, 0, 0, 0, 2, 4, 1, 1, 3, 3, 3, 3, 0, 3, 4, 1, 3, 0, 3, 4, 1, 3, 3, 1, 4, 1, 0, 3, 3, 0, 0, 0, 0, 0, 1, 1, 0, 0, 3, 2, 3, 0, 1, 4, 0, 0, 3, 0, 3, 3, 3, 3, 3, 2, 0, 3, 3, 3, 3, 2, 3, 1, 4, 3, 0, 3, 1, 0, 0, 3, 3, 3, 1, 1, 3, 2, 4, 1, 4, 4, 4, 4, 3, 2, 4, 3, 2, 3, 3, 0, 1, 1, 4, 4, 4, 1, 0, 3, 0, 4, 3, 3, 4, 3, 0, 3, 3, 1, 4, 1, 3, 4, 0, 4, 4, 2, 3, 0, 3, 0, 0, 4, 0, 0, 0, 0, 0, 0, 0, 0, 0, 0, 3, 0, 0, 0, 2, 1, 1, 1, 3, 1, 0]\n"
     ]
    }
   ],
   "source": [
    "# centroids will get the final centroids in k clusters\n",
    "for i in range(20):\n",
    "    get_centroids = findClosestCentroids(centroids, y)\n",
    "    centroids = calc_centroids(get_centroids, y)\n",
    "\n",
    "print(get_centroids)"
   ]
  },
  {
   "cell_type": "code",
   "execution_count": 28,
   "metadata": {},
   "outputs": [],
   "source": [
    "c = []\n",
    "d = []\n",
    "e = []\n",
    "f = []\n",
    "g = []\n",
    "\n",
    "# get the number of points in each cluster\n",
    "for i in range(0, len(get_centroids)):\n",
    "    if get_centroids[i] == 0:\n",
    "        c.append(i)\n",
    "    if get_centroids[i] == 1:\n",
    "        d.append(i)\n",
    "    if get_centroids[i] == 2:\n",
    "        e.append(i)\n",
    "    if get_centroids[i] == 3:\n",
    "        f.append(i)\n",
    "    if get_centroids[i] == 4:\n",
    "        g.append(i)"
   ]
  },
  {
   "cell_type": "code",
   "execution_count": 29,
   "metadata": {},
   "outputs": [],
   "source": [
    "ww1 = 0\n",
    "ww2 = 0\n",
    "ww3 = 0\n",
    "ww4 = 0\n",
    "ww5 = 0\n",
    "\n",
    "vv1 = 0\n",
    "vv2 = 0\n",
    "vv3 = 0\n",
    "vv4 = 0\n",
    "vv5 = 0"
   ]
  },
  {
   "cell_type": "code",
   "execution_count": 30,
   "metadata": {},
   "outputs": [],
   "source": [
    "# iterate a for loop through the diagnosis column in the main dataframe\n",
    "# and find which data point is 'M' and which data point is 'B' in our\n",
    "# k clusters\n",
    "for i in range(0, len(data['Diagnosis'])):\n",
    "\n",
    "    if data['Diagnosis'][i] == 'M':\n",
    "        for j in c:\n",
    "            if j == i:\n",
    "                ww1 += 1\n",
    "        for j in d:\n",
    "            if j == i:\n",
    "                ww2 += 1\n",
    "        if k > 2:\n",
    "            for j in e:\n",
    "                if j == i:\n",
    "                    ww3 += 1\n",
    "        if k > 3:\n",
    "            for j in f:\n",
    "                if j == i:\n",
    "                    ww4 += 1\n",
    "            for j in g:\n",
    "                if j == i:\n",
    "                    ww5 += 1\n",
    "\n",
    "    if data['Diagnosis'][i] == 'B':\n",
    "        for j in c:\n",
    "            if j == i:\n",
    "                vv1 += 1\n",
    "        for j in d:\n",
    "            if j == i:\n",
    "                vv2 += 1\n",
    "        if k > 2:\n",
    "            for j in e:\n",
    "                if j == i:\n",
    "                    vv3 += 1\n",
    "        if k > 3:\n",
    "            for j in f:\n",
    "                if j == i:\n",
    "                    vv4 += 1\n",
    "            for j in g:\n",
    "                if j == i:\n",
    "                    vv5 += 1\n",
    "\n",
    "# c,d,e,f,g contain the indexes of datapoints in each cluster\n",
    "# ww1, vv1 contain how many are malignant and benign respectively in \n",
    "# cluster 1\n",
    "# similarly ww2,vv2,ww3,vv3..."
   ]
  },
  {
   "cell_type": "code",
   "execution_count": 31,
   "metadata": {},
   "outputs": [],
   "source": [
    "malignant = 0\n",
    "benign = 0\n",
    "\n",
    "# calculate how many malignant and benign values are in our dataset\n",
    "for i in range(0, len(data['Diagnosis'])):\n",
    "    if data['Diagnosis'][i] == 'M':\n",
    "        malignant += 1\n",
    "    elif data['Diagnosis'][i] == 'B':\n",
    "        benign += 1"
   ]
  },
  {
   "cell_type": "code",
   "execution_count": 32,
   "metadata": {},
   "outputs": [],
   "source": [
    "# RIG(Y|X) = (H(Y) - H(Y|X))/H(Y)\n",
    "# RIG(clusters|diagnosis) = H(clusters) - H(clusters|diagnosis)/ H(clusters)"
   ]
  },
  {
   "cell_type": "code",
   "execution_count": 33,
   "metadata": {},
   "outputs": [],
   "source": [
    "import math\n",
    "\n",
    "# H(diagnosis)\n",
    "\n",
    "h_diagnosis = ((-malignant/569)*math.log2(malignant/569)) - ((benign/569)*math.log2(benign/569))\n",
    "\n",
    "# H(diagnosis|clusters)\n",
    "\n",
    "if ww1 != 0:\n",
    "    cluster_1_malignant = (-ww1/len(c))*math.log2(ww1/len(c))\n",
    "else:\n",
    "    cluster_1_malignant = 0\n",
    "\n",
    "if vv1 != 0:\n",
    "    cluster_1_benign = (-vv1/len(c))*math.log2(vv1/len(c))\n",
    "else:\n",
    "    cluster_1_benign = 0\n",
    "\n",
    "cluster_1 = cluster_1_malignant + cluster_1_benign\n",
    "\n",
    "\n",
    "if ww2 != 0:\n",
    "    cluster_2_malignant = (-ww2/len(d))*math.log2(ww2/len(d))\n",
    "else:\n",
    "    cluster_2_malignant = 0\n",
    "\n",
    "if vv2 != 0:\n",
    "    cluster_2_benign = (-vv2/len(d))*math.log2(vv2/len(d))\n",
    "else:\n",
    "    cluster_2_benign = 0\n",
    "\n",
    "cluster_2 = cluster_2_malignant + cluster_2_benign\n",
    "\n",
    "\n",
    "if ww3 != 0:\n",
    "    cluster_3_malignant = (-ww3/len(e))*math.log2(ww3/len(e))\n",
    "else:\n",
    "    cluster_3_malignant = 0\n",
    "\n",
    "if vv3 != 0:\n",
    "    cluster_3_benign = (-vv3/len(e))*math.log2(vv3/len(e))\n",
    "else:\n",
    "    cluster_3_benign = 0\n",
    "\n",
    "cluster_3 = cluster_3_malignant + cluster_3_benign\n",
    "\n",
    "\n",
    "if ww4 != 0:\n",
    "    cluster_4_malignant = (-ww4/len(f))*math.log2(ww4/len(f))\n",
    "else:\n",
    "    cluster_4_malignant = 0\n",
    "\n",
    "if vv4 != 0:\n",
    "    cluster_4_benign = (-vv4/len(f))*math.log2(vv4/len(f))\n",
    "else:\n",
    "    cluster_4_benign = 0\n",
    "\n",
    "cluster_4 = cluster_4_malignant + cluster_4_benign\n",
    "\n",
    "\n",
    "if ww5 != 0:\n",
    "    cluster_5_malignant = (-ww5/len(g))*math.log2(ww5/len(g))\n",
    "else:\n",
    "    cluster_5_malignant = 0\n",
    "\n",
    "if vv5 != 0:\n",
    "    cluster_5_benign = (-vv5/len(g))*math.log2(vv5/len(g))\n",
    "else:\n",
    "    cluster_5_benign = 0\n",
    "\n",
    "cluster_5 = cluster_5_benign + cluster_5_malignant"
   ]
  },
  {
   "cell_type": "code",
   "execution_count": 34,
   "metadata": {},
   "outputs": [],
   "source": [
    "# P(CLUSTERS) * H(D|C=1) + P(CLUSTERS) * H(D|C=2)"
   ]
  },
  {
   "cell_type": "code",
   "execution_count": 35,
   "metadata": {},
   "outputs": [],
   "source": [
    "if k == 2:\n",
    "    h_diagnosis_clusters = (len(c)/569)*cluster_1 + (len(d)/569)*cluster_2\n",
    "if k == 3:\n",
    "    h_diagnosis_clusters = (len(c)/569)*cluster_1 + (len(d)/569)*cluster_2 + (len(e)/569)*cluster_3\n",
    "if k == 5:\n",
    "    h_diagnosis_clusters = (len(c)/569)*cluster_1 + (len(d)/569)*cluster_2 + (len(e)/569)*cluster_3 + (len(f)/569)*cluster_4 + (len(g)/569)*cluster_5"
   ]
  },
  {
   "cell_type": "code",
   "execution_count": 37,
   "metadata": {},
   "outputs": [
    {
     "name": "stdout",
     "output_type": "stream",
     "text": [
      "Relative information gain: 0.5759651151132794\n"
     ]
    }
   ],
   "source": [
    "# RIG(diagnosis|clusters) = H(diagnosis) - H(diagnosis|clusters)/ H(diagnosis)\n",
    "\n",
    "print(\"Relative information gain:\",(h_diagnosis - h_diagnosis_clusters)/h_diagnosis)"
   ]
  },
  {
   "cell_type": "code",
   "execution_count": null,
   "metadata": {},
   "outputs": [],
   "source": []
  }
 ],
 "metadata": {
  "kernelspec": {
   "display_name": "Python 3",
   "language": "python",
   "name": "python3"
  },
  "language_info": {
   "codemirror_mode": {
    "name": "ipython",
    "version": 3
   },
   "file_extension": ".py",
   "mimetype": "text/x-python",
   "name": "python",
   "nbconvert_exporter": "python",
   "pygments_lexer": "ipython3",
   "version": "3.8.3"
  }
 },
 "nbformat": 4,
 "nbformat_minor": 4
}
