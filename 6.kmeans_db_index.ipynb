{
 "cells": [
  {
   "cell_type": "code",
   "execution_count": 25,
   "metadata": {},
   "outputs": [],
   "source": [
    "import pandas as pd\n",
    "import numpy as np\n",
    "\n",
    "data = pd.read_csv(\"wdbc.csv\") # READ THE DATASET"
   ]
  },
  {
   "cell_type": "code",
   "execution_count": 26,
   "metadata": {},
   "outputs": [],
   "source": [
    "# DATA NORMALIZATION\n",
    "\n",
    "x = data.copy() # COPY THE DATA INTO A VARIABLE x\n",
    "\n",
    "# Delete non-numerical values\n",
    "del x[\"ID Number\"]\n",
    "del x[\"Diagnosis\"]\n",
    "\n",
    "# Standardize the data\n",
    "X = (x - x.mean())/x.std()\n",
    "y = np.array(X)\n"
   ]
  },
  {
   "cell_type": "code",
   "execution_count": 28,
   "metadata": {},
   "outputs": [
    {
     "name": "stdout",
     "output_type": "stream",
     "text": [
      "Please specify a value of 'k' {2,3, or 5}2\n",
      "Initial Centroids: [286, 238]\n"
     ]
    }
   ],
   "source": [
    "import random\n",
    "k = int(input(\"Please specify a value of 'k' {2,3, or 5}\"))\n",
    "\n",
    "# randomly generate initial centroids\n",
    "init_centroids = random.sample(range(0, len(y)), k)\n",
    "\n",
    "#init_centroids = [339, 113, 42, 96, 487]\n",
    "\n",
    "print(\"Initial Centroids:\", init_centroids)"
   ]
  },
  {
   "cell_type": "code",
   "execution_count": 29,
   "metadata": {},
   "outputs": [],
   "source": [
    "centroids = []\n",
    "for i in init_centroids:\n",
    "    centroids.append(y[i])\n",
    "\n",
    "# get the first centroids\n",
    "centroids = np.array(centroids)"
   ]
  },
  {
   "cell_type": "code",
   "execution_count": 30,
   "metadata": {},
   "outputs": [],
   "source": [
    "# to calculate the distance between points\n",
    "def calc_distance(X1, X2):\n",
    "    return(sum((X1 - X2)**2))**0.5"
   ]
  },
  {
   "cell_type": "code",
   "execution_count": 31,
   "metadata": {},
   "outputs": [],
   "source": [
    "# to calculate nearest centroid\n",
    "def findClosestCentroids(ic, y):\n",
    "    assigned_centroid = []\n",
    "    for i in y:\n",
    "        distance=[]\n",
    "        for j in ic:\n",
    "            distance.append(calc_distance(i, j))\n",
    "        assigned_centroid.append(np.argmin(distance))\n",
    "\n",
    "    return assigned_centroid"
   ]
  },
  {
   "cell_type": "code",
   "execution_count": 32,
   "metadata": {},
   "outputs": [],
   "source": [
    "get_centroids = findClosestCentroids(centroids, y)"
   ]
  },
  {
   "cell_type": "code",
   "execution_count": 33,
   "metadata": {},
   "outputs": [],
   "source": [
    "# to calculate final centroids\n",
    "def calc_centroids(clusters, y):\n",
    "    new_centroids = []\n",
    "    new_df = pd.concat([pd.DataFrame(y), pd.DataFrame(clusters, columns=['cluster'])],\n",
    "                      axis=1)\n",
    "    for c in set(new_df['cluster']):\n",
    "        current_cluster = new_df[new_df['cluster'] == c][new_df.columns[:-1]]\n",
    "        cluster_mean = current_cluster.mean(axis=0)\n",
    "        new_centroids.append(cluster_mean)\n",
    "    return new_centroids"
   ]
  },
  {
   "cell_type": "code",
   "execution_count": 34,
   "metadata": {},
   "outputs": [],
   "source": [
    "# centroids will get the final centroids in k clusters\n",
    "for i in range(100):\n",
    "    get_centroids = findClosestCentroids(centroids, y)\n",
    "    centroids = calc_centroids(get_centroids, y)"
   ]
  },
  {
   "cell_type": "code",
   "execution_count": 35,
   "metadata": {},
   "outputs": [
    {
     "name": "stdout",
     "output_type": "stream",
     "text": [
      "[0    -0.486348\n",
      "1    -0.242569\n",
      "2    -0.502207\n",
      "3    -0.480579\n",
      "4    -0.289452\n",
      "5    -0.499943\n",
      "6    -0.564452\n",
      "7    -0.576955\n",
      "8    -0.297474\n",
      "9    -0.113033\n",
      "10   -0.425520\n",
      "11   -0.021773\n",
      "12   -0.426185\n",
      "13   -0.401195\n",
      "14   -0.006059\n",
      "15   -0.341563\n",
      "16   -0.315407\n",
      "17   -0.380435\n",
      "18   -0.068028\n",
      "19   -0.199100\n",
      "20   -0.518746\n",
      "21   -0.254911\n",
      "22   -0.531308\n",
      "23   -0.499866\n",
      "24   -0.294838\n",
      "25   -0.469762\n",
      "26   -0.518366\n",
      "27   -0.568576\n",
      "28   -0.295513\n",
      "29   -0.302517\n",
      "dtype: float64, 0     0.985631\n",
      "1     0.491589\n",
      "2     1.017771\n",
      "3     0.973940\n",
      "4     0.586601\n",
      "5     1.013182\n",
      "6     1.143916\n",
      "7     1.169254\n",
      "8     0.602860\n",
      "9     0.229073\n",
      "10    0.862358\n",
      "11    0.044125\n",
      "12    0.863705\n",
      "13    0.813061\n",
      "14    0.012279\n",
      "15    0.692210\n",
      "16    0.639203\n",
      "17    0.770989\n",
      "18    0.137866\n",
      "19    0.403495\n",
      "20    1.051288\n",
      "21    0.516602\n",
      "22    1.076747\n",
      "23    1.013026\n",
      "24    0.597518\n",
      "25    0.952017\n",
      "26    1.050518\n",
      "27    1.152275\n",
      "28    0.598886\n",
      "29    0.613081\n",
      "dtype: float64]\n"
     ]
    }
   ],
   "source": [
    "# print the final centroids\n",
    "print(centroids)\n"
   ]
  },
  {
   "cell_type": "code",
   "execution_count": 36,
   "metadata": {},
   "outputs": [],
   "source": [
    "# Davies-Bouldin index\n",
    "\n",
    "def radius(centroids, num):\n",
    "    return(sum((centroids - num)**2))"
   ]
  },
  {
   "cell_type": "code",
   "execution_count": 37,
   "metadata": {},
   "outputs": [],
   "source": [
    "w = []\n",
    "w2 = []\n",
    "w3 = []\n",
    "w4 = []\n",
    "w5 = []\n",
    "\n",
    "# get the number of points in each cluster\n",
    "for i in range(0, len(get_centroids)):\n",
    "    if get_centroids[i] == 0:\n",
    "        w.append(i)\n",
    "    if get_centroids[i] == 1:\n",
    "        w2.append(i)\n",
    "    if get_centroids[i] == 2:\n",
    "        w3.append(i)\n",
    "    if get_centroids[i] == 3:\n",
    "        w4.append(i)\n",
    "    if get_centroids[i] == 4:\n",
    "        w5.append(i)"
   ]
  },
  {
   "cell_type": "code",
   "execution_count": 38,
   "metadata": {},
   "outputs": [],
   "source": [
    "num = []\n",
    "num2 = []\n",
    "num3 = []\n",
    "num4 = []\n",
    "num5 = []\n",
    "\n",
    "i = 0\n",
    "j = 0\n",
    "m = 0\n",
    "p = 0\n",
    "q = 0\n",
    "r = 0\n",
    "\n",
    "# associate each data point to its cluster\n",
    "for i in range(len(w)):\n",
    "    num.append(y[w[i]])\n",
    "\n",
    "for i in range(len(w2)):\n",
    "    num2.append(y[w2[i]])\n",
    "\n",
    "for i in range(len(w3)):\n",
    "    num3.append(y[w3[i]])\n",
    "\n",
    "for i in range(len(w4)):\n",
    "    num4.append(y[w4[i]])\n",
    "\n",
    "for i in range(len(w5)):\n",
    "    num5.append(y[w5[i]])\n",
    "\n",
    "num = np.array(num)\n",
    "num2 = np.array(num2)\n",
    "num3 = np.array(num3)\n",
    "num4 = np.array(num4)\n",
    "num5 = np.array(num5)\n",
    "\n",
    "radius_a = []\n",
    "radius_b = []\n",
    "radius_c = []\n",
    "radius_d = []\n",
    "radius_e = []\n",
    "\n",
    "# find the numerator of davies-bouldin index\n",
    "for i in range(0, len(num)):\n",
    "    radius_a.append(radius(centroids[0], num[i]))\n",
    "for i in range(0, len(num2)):\n",
    "    radius_b.append(radius(centroids[1], num2[i]))\n",
    "for i in range(0, len(num3)):\n",
    "    radius_c.append(radius(centroids[2], num3[i]))\n",
    "for i in range(0, len(num4)):\n",
    "    radius_d.append(radius(centroids[3], num4[i]))\n",
    "for i in range(0, len(num5)):\n",
    "    radius_e.append(radius(centroids[4], num5[i]))"
   ]
  },
  {
   "cell_type": "code",
   "execution_count": 39,
   "metadata": {},
   "outputs": [],
   "source": [
    "# find denominator and final radius for k clusters\n",
    "if k > 1:\n",
    "\n",
    "    denominator_01 = (radius(centroids[0], centroids[1]))\n",
    "    denominator_01 = denominator_01**0.5\n",
    "#    print(denominator)\n",
    "    radi_1_2 = ((sum(radius_a))/len(num))**0.5 + ((sum(radius_b))/len(num2))**0.5\n",
    "    radius_12 = radi_1_2/denominator_01\n",
    "    \n",
    "    \n",
    "    if k > 2:\n",
    "        denominator_02 = (radius(centroids[0], centroids[2]))\n",
    "        denominator_02 = denominator_02**0.5\n",
    "        radi_1_3 = ((sum(radius_a))/len(num))**0.5 + ((sum(radius_c))/len(num3))**0.5\n",
    "        radius_13 = radi_1_3/denominator_02\n",
    "\n",
    "        denominator_12 = (radius(centroids[1], centroids[2]))\n",
    "        denominator_12 = denominator_12**0.5\n",
    "        radi_2_3 = ((sum(radius_b))/len(num2))**0.5 + ((sum(radius_c))/len(num3))**0.5\n",
    "        radius_23 = radi_2_3/denominator_12\n",
    "    if k == 5:\n",
    "        denominator_03 = (radius(centroids[0], centroids[3]))\n",
    "        denominator_03 = denominator_03**0.5\n",
    "        radi_1_4 = ((sum(radius_a))/len(num))**0.5 + ((sum(radius_d))/len(num4))**0.5\n",
    "        radius_14 = radi_1_4/denominator_03\n",
    "        \n",
    "        denominator_04 = (radius(centroids[0], centroids[4]))\n",
    "        denominator_04 = denominator_04**0.5\n",
    "        radi_1_5 = ((sum(radius_a))/len(num))**0.5 + ((sum(radius_e))/len(num5))**0.5\n",
    "        radius_15 = radi_1_5/denominator_04\n",
    "        \n",
    "        denominator_13 = (radius(centroids[1], centroids[3]))\n",
    "        denominator_13 = denominator_13**0.5\n",
    "        radi_2_4 = ((sum(radius_b))/len(num2))**0.5 + ((sum(radius_d))/len(num4))**0.5\n",
    "        radius_24 = radi_2_4/denominator_13\n",
    "\n",
    "        denominator_14 = (radius(centroids[1], centroids[4]))\n",
    "        denominator_14 = denominator_14**0.5\n",
    "        radi_2_5 = ((sum(radius_b))/len(num2))**0.5 + ((sum(radius_e))/len(num5))**0.5\n",
    "        radius_25 = radi_2_5/denominator_14\n",
    "        \n",
    "        denominator_23 = (radius(centroids[2], centroids[3]))\n",
    "        denominator_23 = denominator_23**0.5\n",
    "        radi_3_4 = ((sum(radius_c))/len(num3))**0.5 + ((sum(radius_d))/len(num4))**0.5\n",
    "        radius_34 = radi_3_4/denominator_23\n",
    "\n",
    "        denominator_24 = (radius(centroids[2], centroids[4]))\n",
    "        denominator_24 = denominator_24**0.5\n",
    "        radi_3_5 = ((sum(radius_c))/len(num3))**0.5 + ((sum(radius_e))/len(num5))**0.5\n",
    "        radius_35 = radi_3_5/denominator_24\n",
    "\n",
    "        denominator_34 = (radius(centroids[3], centroids[4]))\n",
    "        denominator_34 = denominator_34**0.5\n",
    "        radi_4_5 = ((sum(radius_d))/len(num4))**0.5 + ((sum(radius_e))/len(num5))**0.5\n",
    "        radius_45 = radi_4_5/denominator_34\n"
   ]
  },
  {
   "cell_type": "code",
   "execution_count": 40,
   "metadata": {},
   "outputs": [
    {
     "name": "stdout",
     "output_type": "stream",
     "text": [
      "Davies-Bouldin index is: 1.4421315776945116\n"
     ]
    }
   ],
   "source": [
    "# print the davies-bouldin index\n",
    "if k == 2:\n",
    "    print(\"Davies-Bouldin index is:\", radius_12)\n",
    "elif k == 3:\n",
    "    max_1 = (max(radius_12, radius_13))\n",
    "    max_2 = (max(radius_23, radius_12))\n",
    "    max_3 = (max(radius_23, radius_13))\n",
    "    print(\"Davies-Bouldin index is:\", (max_1 + max_2 + max_3)/k)\n",
    "elif k == 5:\n",
    "    max_1 = (max(radius_12, radius_13, radius_14, radius_15))\n",
    "    max_2 = (max(radius_23, radius_12, radius_24, radius_25))\n",
    "    max_3 = (max(radius_23, radius_13, radius_34, radius_35))\n",
    "    max_4 = (max(radius_14, radius_24, radius_34, radius_45))\n",
    "    max_5 = (max(radius_15, radius_25, radius_35, radius_45))\n",
    "    print(\"Davies-Bouldin index is:\", (max_1 + max_2 + max_3 + max_4 + max_5)/k)"
   ]
  },
  {
   "cell_type": "code",
   "execution_count": null,
   "metadata": {},
   "outputs": [],
   "source": []
  }
 ],
 "metadata": {
  "kernelspec": {
   "display_name": "Python 3",
   "language": "python",
   "name": "python3"
  },
  "language_info": {
   "codemirror_mode": {
    "name": "ipython",
    "version": 3
   },
   "file_extension": ".py",
   "mimetype": "text/x-python",
   "name": "python",
   "nbconvert_exporter": "python",
   "pygments_lexer": "ipython3",
   "version": "3.8.3"
  }
 },
 "nbformat": 4,
 "nbformat_minor": 4
}
