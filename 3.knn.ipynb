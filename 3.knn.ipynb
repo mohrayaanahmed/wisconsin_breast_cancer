{
 "cells": [
  {
   "cell_type": "code",
   "execution_count": 20,
   "metadata": {},
   "outputs": [],
   "source": [
    "import csv\n",
    "import numpy as np\n",
    "from scipy import stats"
   ]
  },
  {
   "cell_type": "code",
   "execution_count": 21,
   "metadata": {},
   "outputs": [],
   "source": [
    "\"\"\"\n",
    "knn calculates accuracy of one leave out cross validation for kNN\n",
    "Inputs: X is N-by-m data matrix with N observations (one per row) and m dimensions.\n",
    "        Y is vector with N elements\n",
    "        k is number of neighbours to use\n",
    "Output: acc is fraction of correctly recognised cases\n",
    "\"\"\"\n",
    "\n",
    "def knn(X, Y, k):\n",
    "    if type(X) != np.ndarray or len(X.shape) != 2 or X.shape[0] != len(Y)\\\n",
    "        or not type(k) == int or k <= 0:\n",
    "            # raise Exception(\"error\")\n",
    "            raise Exception(\"Wrong types of parameters:\\n\" +\\\n",
    "                            \"X must be numerical matrix\\n\" +\\\n",
    "                            'Y must be vector with the same nuber elements as number ' +\\\n",
    "                            'of rows in matrix X\\n' +\\\n",
    "                            'k must be positive integer');\n",
    "   \n",
    "    # Calculate distances between all rows of matrix X\n",
    "    # Firstly calculate squared length of each data vector\n",
    "    d = np.expand_dims(np.sum(X ** 2, axis=1), axis=1)\n",
    "    # Now use formula ||x-y||^2 = ||x||^2 - 2(x, y) +||y||^2\n",
    "    dist = d + d.T - 2 * np.matmul(X, X.T);\n",
    "    # sort each row of distances matrix\n",
    "    ind = np.argsort(dist)\n",
    "    # get the required fragment of class labels and calculate mode\n",
    "    res = np.squeeze(stats.mode(Y[ind[:, 1:k+1]], axis=1)[0])\n",
    "#    return sum(res == Y)\n",
    "    return (sum(res == Y))/len(Y)"
   ]
  },
  {
   "cell_type": "code",
   "execution_count": 22,
   "metadata": {},
   "outputs": [
    {
     "name": "stdout",
     "output_type": "stream",
     "text": [
      "0.9507908611599297 0.9648506151142355\n"
     ]
    }
   ],
   "source": [
    "# load data\n",
    "with open('Normalized Data - Copy.csv') as csv_file:\n",
    "    csv_reader = csv.reader(csv_file, delimiter=',')\n",
    "    # Read all data to list of lists\n",
    "    X = list(csv_reader)\n",
    "    # get number of objects\n",
    "    N = len(X)\n",
    "    # Create array of labels\n",
    "    lab = np.zeros(N);\n",
    "    k = 0;\n",
    "    for x in X:\n",
    "        # get labels\n",
    "        lab[k] = x[1] == 'M'\n",
    "        # Shift index\n",
    "        k += 1\n",
    "        # Remove the first two elements\n",
    "        del x[0:2]\n",
    "\n",
    "data = np.array(X).astype(\"float\")\n",
    "\n",
    "del X, x, k, csv_reader, csv_file\n",
    "\n",
    "# Call knn function\n",
    "acc1 = knn(data, lab, 1)\n",
    "acc3 = knn(data, lab, 3)\n",
    "print(acc1,acc3)"
   ]
  },
  {
   "cell_type": "code",
   "execution_count": null,
   "metadata": {},
   "outputs": [],
   "source": []
  }
 ],
 "metadata": {
  "kernelspec": {
   "display_name": "Python 3",
   "language": "python",
   "name": "python3"
  },
  "language_info": {
   "codemirror_mode": {
    "name": "ipython",
    "version": 3
   },
   "file_extension": ".py",
   "mimetype": "text/x-python",
   "name": "python",
   "nbconvert_exporter": "python",
   "pygments_lexer": "ipython3",
   "version": "3.8.3"
  }
 },
 "nbformat": 4,
 "nbformat_minor": 4
}
